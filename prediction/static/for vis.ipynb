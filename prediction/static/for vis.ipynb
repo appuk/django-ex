{
 "cells": [
  {
   "cell_type": "code",
   "execution_count": 19,
   "metadata": {},
   "outputs": [],
   "source": [
    "import pandas as pd\n",
    "pd.options.mode.chained_assignment = None\n",
    "import matplotlib.pyplot as plt\n",
    "%matplotlib inline\n",
    "data1 = pd.read_excel(\"numeric_cleaned.xls\")"
   ]
  },
  {
   "cell_type": "code",
   "execution_count": 20,
   "metadata": {},
   "outputs": [
    {
     "data": {
      "text/html": [
       "<div>\n",
       "<style scoped>\n",
       "    .dataframe tbody tr th:only-of-type {\n",
       "        vertical-align: middle;\n",
       "    }\n",
       "\n",
       "    .dataframe tbody tr th {\n",
       "        vertical-align: top;\n",
       "    }\n",
       "\n",
       "    .dataframe thead th {\n",
       "        text-align: right;\n",
       "    }\n",
       "</style>\n",
       "<table border=\"1\" class=\"dataframe\">\n",
       "  <thead>\n",
       "    <tr style=\"text-align: right;\">\n",
       "      <th></th>\n",
       "      <th>PropertyCity</th>\n",
       "      <th>Veteran</th>\n",
       "      <th>EstimatedCreditScore</th>\n",
       "      <th>BankruptcyForeClosureCheck</th>\n",
       "      <th>PropertyUse</th>\n",
       "      <th>EstimatedPropertyValue</th>\n",
       "      <th>LoanAmountRequested</th>\n",
       "      <th>AdditionalCashRequired</th>\n",
       "      <th>LenderId</th>\n",
       "      <th>APRPercentage</th>\n",
       "      <th>AmortizationType</th>\n",
       "      <th>IsFHALoan</th>\n",
       "      <th>IsJumboLoan</th>\n",
       "      <th>IsVALoan</th>\n",
       "      <th>LoanAmount</th>\n",
       "      <th>TotalFees</th>\n",
       "      <th>IsBestOffer</th>\n",
       "    </tr>\n",
       "  </thead>\n",
       "  <tbody>\n",
       "    <tr>\n",
       "      <th>15019</th>\n",
       "      <td>1</td>\n",
       "      <td>1</td>\n",
       "      <td>3</td>\n",
       "      <td>3</td>\n",
       "      <td>2</td>\n",
       "      <td>550000</td>\n",
       "      <td>180001</td>\n",
       "      <td>0</td>\n",
       "      <td>9</td>\n",
       "      <td>4.656</td>\n",
       "      <td>Fixed</td>\n",
       "      <td>False</td>\n",
       "      <td>False</td>\n",
       "      <td>False</td>\n",
       "      <td>180001</td>\n",
       "      <td>2370</td>\n",
       "      <td>False</td>\n",
       "    </tr>\n",
       "    <tr>\n",
       "      <th>15019</th>\n",
       "      <td>1</td>\n",
       "      <td>1</td>\n",
       "      <td>3</td>\n",
       "      <td>3</td>\n",
       "      <td>2</td>\n",
       "      <td>550000</td>\n",
       "      <td>180001</td>\n",
       "      <td>0</td>\n",
       "      <td>232</td>\n",
       "      <td>4.734</td>\n",
       "      <td>Variable</td>\n",
       "      <td>False</td>\n",
       "      <td>False</td>\n",
       "      <td>False</td>\n",
       "      <td>180001</td>\n",
       "      <td>795</td>\n",
       "      <td>False</td>\n",
       "    </tr>\n",
       "    <tr>\n",
       "      <th>15019</th>\n",
       "      <td>1</td>\n",
       "      <td>1</td>\n",
       "      <td>3</td>\n",
       "      <td>3</td>\n",
       "      <td>2</td>\n",
       "      <td>550000</td>\n",
       "      <td>180001</td>\n",
       "      <td>0</td>\n",
       "      <td>9</td>\n",
       "      <td>5.354</td>\n",
       "      <td>Fixed</td>\n",
       "      <td>False</td>\n",
       "      <td>False</td>\n",
       "      <td>True</td>\n",
       "      <td>180001</td>\n",
       "      <td>4665</td>\n",
       "      <td>False</td>\n",
       "    </tr>\n",
       "    <tr>\n",
       "      <th>15019</th>\n",
       "      <td>1</td>\n",
       "      <td>1</td>\n",
       "      <td>3</td>\n",
       "      <td>3</td>\n",
       "      <td>2</td>\n",
       "      <td>550000</td>\n",
       "      <td>180001</td>\n",
       "      <td>0</td>\n",
       "      <td>7</td>\n",
       "      <td>4.077</td>\n",
       "      <td>Fixed</td>\n",
       "      <td>False</td>\n",
       "      <td>False</td>\n",
       "      <td>True</td>\n",
       "      <td>180001</td>\n",
       "      <td>5571</td>\n",
       "      <td>True</td>\n",
       "    </tr>\n",
       "    <tr>\n",
       "      <th>15019</th>\n",
       "      <td>1</td>\n",
       "      <td>1</td>\n",
       "      <td>3</td>\n",
       "      <td>3</td>\n",
       "      <td>2</td>\n",
       "      <td>550000</td>\n",
       "      <td>180001</td>\n",
       "      <td>0</td>\n",
       "      <td>7</td>\n",
       "      <td>4.500</td>\n",
       "      <td>Fixed</td>\n",
       "      <td>False</td>\n",
       "      <td>False</td>\n",
       "      <td>False</td>\n",
       "      <td>180001</td>\n",
       "      <td>0</td>\n",
       "      <td>False</td>\n",
       "    </tr>\n",
       "  </tbody>\n",
       "</table>\n",
       "</div>"
      ],
      "text/plain": [
       "       PropertyCity  Veteran  EstimatedCreditScore  \\\n",
       "15019             1        1                     3   \n",
       "15019             1        1                     3   \n",
       "15019             1        1                     3   \n",
       "15019             1        1                     3   \n",
       "15019             1        1                     3   \n",
       "\n",
       "       BankruptcyForeClosureCheck  PropertyUse  EstimatedPropertyValue  \\\n",
       "15019                           3            2                  550000   \n",
       "15019                           3            2                  550000   \n",
       "15019                           3            2                  550000   \n",
       "15019                           3            2                  550000   \n",
       "15019                           3            2                  550000   \n",
       "\n",
       "       LoanAmountRequested  AdditionalCashRequired  LenderId  APRPercentage  \\\n",
       "15019               180001                       0         9          4.656   \n",
       "15019               180001                       0       232          4.734   \n",
       "15019               180001                       0         9          5.354   \n",
       "15019               180001                       0         7          4.077   \n",
       "15019               180001                       0         7          4.500   \n",
       "\n",
       "      AmortizationType  IsFHALoan  IsJumboLoan  IsVALoan  LoanAmount  \\\n",
       "15019            Fixed      False        False     False      180001   \n",
       "15019         Variable      False        False     False      180001   \n",
       "15019            Fixed      False        False      True      180001   \n",
       "15019            Fixed      False        False      True      180001   \n",
       "15019            Fixed      False        False     False      180001   \n",
       "\n",
       "       TotalFees  IsBestOffer  \n",
       "15019       2370        False  \n",
       "15019        795        False  \n",
       "15019       4665        False  \n",
       "15019       5571         True  \n",
       "15019          0        False  "
      ]
     },
     "execution_count": 20,
     "metadata": {},
     "output_type": "execute_result"
    }
   ],
   "source": [
    "data1.head()"
   ]
  },
  {
   "cell_type": "code",
   "execution_count": 21,
   "metadata": {},
   "outputs": [],
   "source": [
    "data2 = data1[(data1['PropertyCity'] == 3) & (data1['Veteran'] == 0)&( data1['EstimatedCreditScore'] == 5)&( data1['BankruptcyForeClosureCheck'] == 3)&( data1['PropertyUse'] == 2)]\n",
    "i = 595000\n",
    "j = 470001\n",
    "k = 5000\n",
    "data2 = data2[(data2['EstimatedPropertyValue'].between(i-5000, i+5000, inclusive=True)) & (data2['LoanAmountRequested'].between(j-5000, j+5000, inclusive=True)) & (data2['AdditionalCashRequired'].between(k-5000, k+5000, inclusive=True))]"
   ]
  },
  {
   "cell_type": "code",
   "execution_count": 22,
   "metadata": {},
   "outputs": [
    {
     "data": {
      "text/html": [
       "<script>requirejs.config({paths: { 'plotly': ['https://cdn.plot.ly/plotly-latest.min']},});if(!window.Plotly) {{require(['plotly'],function(plotly) {window.Plotly=plotly;});}}</script>"
      ],
      "text/vnd.plotly.v1+html": [
       "<script>requirejs.config({paths: { 'plotly': ['https://cdn.plot.ly/plotly-latest.min']},});if(!window.Plotly) {{require(['plotly'],function(plotly) {window.Plotly=plotly;});}}</script>"
      ]
     },
     "metadata": {},
     "output_type": "display_data"
    }
   ],
   "source": [
    "import plotly\n",
    "import plotly.graph_objs as go\n",
    "plotly.offline.init_notebook_mode(connected=True)"
   ]
  },
  {
   "cell_type": "code",
   "execution_count": 23,
   "metadata": {},
   "outputs": [
    {
     "data": {
      "text/plain": [
       "(-1.214451824867174,\n",
       " 1.115053607071521,\n",
       " -1.1223266536942444,\n",
       " 1.1016783299146562)"
      ]
     },
     "execution_count": 23,
     "metadata": {},
     "output_type": "execute_result"
    },
    {
     "data": {
      "image/png": "[encoded data removed]",
      "text/plain": [
       "<Figure size 432x288 with 1 Axes>"
      ]
     },
     "metadata": {},
     "output_type": "display_data"
    }
   ],
   "source": [
    "labels = data2['LenderId'].unique()\n",
    "sizes = [ data2['LenderId'][(data2['LenderId'] == i)].count() for i in data2['LenderId'].unique()]\n",
    "colors = ['red','blue','gold', 'yellowgreen', 'lightcoral', 'lightskyblue']\n",
    "explode = (0.1, 0, 0, 0, 0, 0)  # explode 1st slice\n",
    " \n",
    "# Plot\n",
    "plt.pie(sizes, explode=explode[0:len(data2['LenderId'].unique())], labels=labels, colors=colors[0:len(data2['LenderId'].unique())],\n",
    "        autopct='%1.1f%%', shadow=True, startangle=140)\n",
    " \n",
    "plt.axis('equal')\n",
    "#plt.show()"
   ]
  },
  {
   "cell_type": "code",
   "execution_count": 24,
   "metadata": {},
   "outputs": [
    {
     "data": {
      "application/vnd.plotly.v1+json": {
       "data": [
        {
         "labels": [
          9,
          7,
          232,
          83
         ],
         "type": "pie",
         "uid": "e2fa0efc-f730-11e8-8786-14c2130890da",
         "values": [
          12,
          9,
          10,
          12
         ]
        }
       ],
       "layout": {}
      },
      "text/html": [
       "<div id=\"7634b521-bc54-42d9-8ef9-b7cb1e6bf78f\" style=\"height: 525px; width: 100%;\" class=\"plotly-graph-div\"></div><script type=\"text/javascript\">require([\"plotly\"], function(Plotly) { window.PLOTLYENV=window.PLOTLYENV || {};window.PLOTLYENV.BASE_URL=\"https://plot.ly\";Plotly.newPlot(\"7634b521-bc54-42d9-8ef9-b7cb1e6bf78f\", [{\"labels\": [9, 7, 232, 83], \"values\": [12, 9, 10, 12], \"type\": \"pie\", \"uid\": \"e3028a6e-f730-11e8-8786-14c2130890da\"}], {}, {\"showLink\": true, \"linkText\": \"Export to plot.ly\"})});</script>"
      ],
      "text/vnd.plotly.v1+html": [
       "<div id=\"7634b521-bc54-42d9-8ef9-b7cb1e6bf78f\" style=\"height: 525px; width: 100%;\" class=\"plotly-graph-div\"></div><script type=\"text/javascript\">require([\"plotly\"], function(Plotly) { window.PLOTLYENV=window.PLOTLYENV || {};window.PLOTLYENV.BASE_URL=\"https://plot.ly\";Plotly.newPlot(\"7634b521-bc54-42d9-8ef9-b7cb1e6bf78f\", [{\"labels\": [9, 7, 232, 83], \"values\": [12, 9, 10, 12], \"type\": \"pie\", \"uid\": \"e3028a6e-f730-11e8-8786-14c2130890da\"}], {}, {\"showLink\": true, \"linkText\": \"Export to plot.ly\"})});</script>"
      ]
     },
     "metadata": {},
     "output_type": "display_data"
    }
   ],
   "source": [
    "trace = go.Pie(labels=labels, values=sizes)\n",
    "plotly.offline.iplot([trace])"
   ]
  },
  {
   "cell_type": "code",
   "execution_count": 25,
   "metadata": {},
   "outputs": [],
   "source": [
    "pd.to_numeric(data2['APRPercentage'])\n",
    "data2['APRPercentage'] = data2['APRPercentage'].mask(data2['APRPercentage'].between(3.5,4), 1)\n",
    "data2['APRPercentage'] = data2['APRPercentage'].mask(data2['APRPercentage'].between(4,4.5), 2)\n",
    "data2['APRPercentage'] = data2['APRPercentage'].mask(data2['APRPercentage'].between(4.5,5), 3)\n",
    "data2['APRPercentage'] = data2['APRPercentage'].mask(data2['APRPercentage'].between(5,5.5), 4)\n",
    "data2['APRPercentage'] = data2['APRPercentage'].mask(data2['APRPercentage'].between(5.5,6), 5)\n",
    "data2['APRPercentage'] = data2['APRPercentage'].mask(data2['APRPercentage'].between(6,6.5), 6)\n",
    "data2['APRPercentage'] = data2['APRPercentage'].mask(data2['APRPercentage'].between(6.5,7), 7)"
   ]
  },
  {
   "cell_type": "code",
   "execution_count": 28,
   "metadata": {},
   "outputs": [
    {
     "data": {
      "text/plain": [
       "<BarContainer object of 5 artists>"
      ]
     },
     "execution_count": 28,
     "metadata": {},
     "output_type": "execute_result"
    },
    {
     "data": {
      "image/png": "[encoded data removed]",
      "text/plain": [
       "<Figure size 432x288 with 1 Axes>"
      ]
     },
     "metadata": {
      "needs_background": "light"
     },
     "output_type": "display_data"
    }
   ],
   "source": [
    "a = {i:data2['APRPercentage'][(data2['APRPercentage'] == i)].count() for i in data2['APRPercentage'].unique()}\n",
    "a = dict(sorted(a.items()))\n",
    "x1 = a.keys()\n",
    "y1 = a.values()\n",
    "plt.bar(x1,y1) \n",
    "#plt.show()"
   ]
  },
  {
   "cell_type": "code",
   "execution_count": 36,
   "metadata": {},
   "outputs": [
    {
     "data": {
      "application/vnd.plotly.v1+json": {
       "data": [
        {
         "type": "bar",
         "uid": "7c2fe57e-f731-11e8-8786-14c2130890da",
         "x": [
          1,
          2,
          3,
          4,
          5
         ],
         "y": [
          3,
          3,
          25,
          7,
          5
         ]
        }
       ],
       "layout": {}
      },
      "text/html": [
       "<div id=\"675d0cb2-be2b-4d87-a085-c6cb92f3da36\" style=\"height: 525px; width: 100%;\" class=\"plotly-graph-div\"></div><script type=\"text/javascript\">require([\"plotly\"], function(Plotly) { window.PLOTLYENV=window.PLOTLYENV || {};window.PLOTLYENV.BASE_URL=\"https://plot.ly\";Plotly.newPlot(\"675d0cb2-be2b-4d87-a085-c6cb92f3da36\", [{\"x\": [1.0, 2.0, 3.0, 4.0, 5.0], \"y\": [3, 3, 25, 7, 5], \"type\": \"bar\", \"uid\": \"7c362a2e-f731-11e8-8786-14c2130890da\"}], {}, {\"showLink\": true, \"linkText\": \"Export to plot.ly\"})});</script>"
      ],
      "text/vnd.plotly.v1+html": [
       "<div id=\"675d0cb2-be2b-4d87-a085-c6cb92f3da36\" style=\"height: 525px; width: 100%;\" class=\"plotly-graph-div\"></div><script type=\"text/javascript\">require([\"plotly\"], function(Plotly) { window.PLOTLYENV=window.PLOTLYENV || {};window.PLOTLYENV.BASE_URL=\"https://plot.ly\";Plotly.newPlot(\"675d0cb2-be2b-4d87-a085-c6cb92f3da36\", [{\"x\": [1.0, 2.0, 3.0, 4.0, 5.0], \"y\": [3, 3, 25, 7, 5], \"type\": \"bar\", \"uid\": \"7c362a2e-f731-11e8-8786-14c2130890da\"}], {}, {\"showLink\": true, \"linkText\": \"Export to plot.ly\"})});</script>"
      ]
     },
     "metadata": {},
     "output_type": "display_data"
    }
   ],
   "source": [
    "trace = go.Bar(x=list(x1), y=list(y1))\n",
    "plotly.offline.iplot([trace])"
   ]
  },
  {
   "cell_type": "code",
   "execution_count": 7,
   "metadata": {},
   "outputs": [
    {
     "data": {
      "text/plain": [
       "(-1.0351031927336993,\n",
       " 1.1725690796888393,\n",
       " -1.173736322068096,\n",
       " 1.035082129132312)"
      ]
     },
     "execution_count": 7,
     "metadata": {},
     "output_type": "execute_result"
    },
    {
     "data": {
      "image/png": "[encoded data removed]",
      "text/plain": [
       "<Figure size 432x288 with 1 Axes>"
      ]
     },
     "metadata": {},
     "output_type": "display_data"
    }
   ],
   "source": [
    "labels = data2['AmortizationType'].unique()\n",
    "sizes = [ data2['AmortizationType'][(data2['AmortizationType'] == i)].count() for i in data2['AmortizationType'].unique()]\n",
    "colors = ['red','blue','gold', 'yellowgreen', 'lightcoral', 'lightskyblue']\n",
    "explode = (0.1, 0, 0, 0, 0, 0)  # explode 1st slice\n",
    " \n",
    "# Plot\n",
    "plt.pie(sizes, explode=explode[0:len(data2['AmortizationType'].unique())], labels=labels, colors=colors[0:len(data2['AmortizationType'].unique())],\n",
    "        autopct='%1.1f%%', shadow=True, startangle=140)\n",
    " \n",
    "plt.axis('equal')\n",
    "#plt.show()"
   ]
  },
  {
   "cell_type": "code",
   "execution_count": 8,
   "metadata": {},
   "outputs": [
    {
     "data": {
      "text/plain": [
       "(-1.202449980023084,\n",
       " 1.1153004081307625,\n",
       " -1.1785156234301348,\n",
       " 1.1127188183771157)"
      ]
     },
     "execution_count": 8,
     "metadata": {},
     "output_type": "execute_result"
    },
    {
     "data": {
      "image/png": "[encoded data removed]",
      "text/plain": [
       "<Figure size 432x288 with 1 Axes>"
      ]
     },
     "metadata": {},
     "output_type": "display_data"
    }
   ],
   "source": [
    "labels = ['IsFHALoan','IsJumboLoan','IsVALoan']\n",
    "sizes = [ data2['IsFHALoan'][(data2[i] == True)].count() for i in labels]\n",
    "colors = ['red','blue','yellowgreen']\n",
    "explode = (0.1, 0, 0)\n",
    " \n",
    "# Plot\n",
    "plt.pie(sizes, explode=explode, labels=labels, colors=colors,\n",
    "        autopct='%1.1f%%', shadow=True, startangle=140)\n",
    " \n",
    "plt.axis('equal')\n",
    "#plt.show()"
   ]
  },
  {
   "cell_type": "code",
   "execution_count": 9,
   "metadata": {},
   "outputs": [
    {
     "data": {
      "text/plain": [
       "(-1.1899291919652346,\n",
       " 1.1091855627444267,\n",
       " -1.1074640146934565,\n",
       " 1.1068277735517795)"
      ]
     },
     "execution_count": 9,
     "metadata": {},
     "output_type": "execute_result"
    },
    {
     "data": {
      "image/png": "[encoded data removed]",
      "text/plain": [
       "<Figure size 432x288 with 1 Axes>"
      ]
     },
     "metadata": {},
     "output_type": "display_data"
    }
   ],
   "source": [
    "labels = ['IsBestOffer','NotBestOffer']\n",
    "sizes = [ data2['IsBestOffer'][(data2['IsBestOffer'] == True)].count(), data2['IsBestOffer'][(data2['IsBestOffer'] == False)].count()]\n",
    "colors = ['green','red']\n",
    "explode = (0.1, 0)\n",
    " \n",
    "# Plot\n",
    "plt.pie(sizes, explode=explode, labels=labels, colors=colors,\n",
    "        autopct='%1.1f%%', shadow=True, startangle=140)\n",
    " \n",
    "plt.axis('equal')\n",
    "#plt.show()"
   ]
  },
  {
   "cell_type": "code",
   "execution_count": null,
   "metadata": {},
   "outputs": [],
   "source": []
  }
 ],
 "metadata": {
  "kernelspec": {
   "display_name": "Python 3",
   "language": "python",
   "name": "python3"
  },
  "language_info": {
   "codemirror_mode": {
    "name": "ipython",
    "version": 3
   },
   "file_extension": ".py",
   "mimetype": "text/x-python",
   "name": "python",
   "nbconvert_exporter": "python",
   "pygments_lexer": "ipython3",
   "version": "3.7.0"
  }
 },
 "nbformat": 4,
 "nbformat_minor": 2
}
